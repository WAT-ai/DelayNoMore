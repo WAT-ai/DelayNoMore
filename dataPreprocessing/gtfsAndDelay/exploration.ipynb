{
 "cells": [
  {
   "cell_type": "code",
   "execution_count": 22,
   "metadata": {},
   "outputs": [
    {
     "data": {
      "text/html": [
       "<div>\n",
       "<style scoped>\n",
       "    .dataframe tbody tr th:only-of-type {\n",
       "        vertical-align: middle;\n",
       "    }\n",
       "\n",
       "    .dataframe tbody tr th {\n",
       "        vertical-align: top;\n",
       "    }\n",
       "\n",
       "    .dataframe thead th {\n",
       "        text-align: right;\n",
       "    }\n",
       "</style>\n",
       "<table border=\"1\" class=\"dataframe\">\n",
       "  <thead>\n",
       "    <tr style=\"text-align: right;\">\n",
       "      <th></th>\n",
       "      <th>Date</th>\n",
       "      <th>Route</th>\n",
       "      <th>Time</th>\n",
       "      <th>Day</th>\n",
       "      <th>Location</th>\n",
       "      <th>Incident</th>\n",
       "      <th>Min Delay</th>\n",
       "      <th>Min Gap</th>\n",
       "      <th>Direction</th>\n",
       "      <th>Vehicle</th>\n",
       "    </tr>\n",
       "  </thead>\n",
       "  <tbody>\n",
       "    <tr>\n",
       "      <th>45290</th>\n",
       "      <td>30-Sep-24</td>\n",
       "      <td>108</td>\n",
       "      <td>01:00</td>\n",
       "      <td>Monday</td>\n",
       "      <td>SHEPPARD WEST STATION</td>\n",
       "      <td>Vision</td>\n",
       "      <td>16</td>\n",
       "      <td>32</td>\n",
       "      <td>S</td>\n",
       "      <td>8943</td>\n",
       "    </tr>\n",
       "    <tr>\n",
       "      <th>45291</th>\n",
       "      <td>30-Sep-24</td>\n",
       "      <td>29</td>\n",
       "      <td>01:11</td>\n",
       "      <td>Monday</td>\n",
       "      <td>SPRINGHURST LOOP</td>\n",
       "      <td>Emergency Services</td>\n",
       "      <td>12</td>\n",
       "      <td>24</td>\n",
       "      <td>NaN</td>\n",
       "      <td>9146</td>\n",
       "    </tr>\n",
       "    <tr>\n",
       "      <th>45292</th>\n",
       "      <td>30-Sep-24</td>\n",
       "      <td>169</td>\n",
       "      <td>01:24</td>\n",
       "      <td>Monday</td>\n",
       "      <td>BRIAN AND VAN HORNE</td>\n",
       "      <td>General Delay</td>\n",
       "      <td>30</td>\n",
       "      <td>30</td>\n",
       "      <td>W</td>\n",
       "      <td>1653</td>\n",
       "    </tr>\n",
       "    <tr>\n",
       "      <th>45293</th>\n",
       "      <td>30-Sep-24</td>\n",
       "      <td>47</td>\n",
       "      <td>01:25</td>\n",
       "      <td>Monday</td>\n",
       "      <td>LANSDOWNE AND COLLEGE</td>\n",
       "      <td>Collision - TTC</td>\n",
       "      <td>10</td>\n",
       "      <td>20</td>\n",
       "      <td>N</td>\n",
       "      <td>3523</td>\n",
       "    </tr>\n",
       "    <tr>\n",
       "      <th>45294</th>\n",
       "      <td>30-Sep-24</td>\n",
       "      <td>102</td>\n",
       "      <td>01:26</td>\n",
       "      <td>Monday</td>\n",
       "      <td>137 THE WEST MALL</td>\n",
       "      <td>Operations - Operator</td>\n",
       "      <td>17</td>\n",
       "      <td>34</td>\n",
       "      <td>W</td>\n",
       "      <td>8156</td>\n",
       "    </tr>\n",
       "    <tr>\n",
       "      <th>45295</th>\n",
       "      <td>30-Sep-24</td>\n",
       "      <td>63</td>\n",
       "      <td>01:29</td>\n",
       "      <td>Monday</td>\n",
       "      <td>KING AND DOWLING</td>\n",
       "      <td>Vision</td>\n",
       "      <td>10</td>\n",
       "      <td>20</td>\n",
       "      <td>S</td>\n",
       "      <td>7042</td>\n",
       "    </tr>\n",
       "    <tr>\n",
       "      <th>45296</th>\n",
       "      <td>30-Sep-24</td>\n",
       "      <td>32</td>\n",
       "      <td>01:37</td>\n",
       "      <td>Monday</td>\n",
       "      <td>EGLINTON AND OAKWOOD</td>\n",
       "      <td>Vision</td>\n",
       "      <td>13</td>\n",
       "      <td>18</td>\n",
       "      <td>E</td>\n",
       "      <td>7212</td>\n",
       "    </tr>\n",
       "    <tr>\n",
       "      <th>45297</th>\n",
       "      <td>30-Sep-24</td>\n",
       "      <td>63</td>\n",
       "      <td>01:39</td>\n",
       "      <td>Monday</td>\n",
       "      <td>OSSINGTON STATION</td>\n",
       "      <td>Vision</td>\n",
       "      <td>10</td>\n",
       "      <td>20</td>\n",
       "      <td>N</td>\n",
       "      <td>7098</td>\n",
       "    </tr>\n",
       "    <tr>\n",
       "      <th>45298</th>\n",
       "      <td>30-Sep-24</td>\n",
       "      <td>31</td>\n",
       "      <td>01:46</td>\n",
       "      <td>Monday</td>\n",
       "      <td>COXWELL STATION</td>\n",
       "      <td>Emergency Services</td>\n",
       "      <td>17</td>\n",
       "      <td>34</td>\n",
       "      <td>NaN</td>\n",
       "      <td>8570</td>\n",
       "    </tr>\n",
       "    <tr>\n",
       "      <th>45299</th>\n",
       "      <td>30-Sep-24</td>\n",
       "      <td>54</td>\n",
       "      <td>01:55</td>\n",
       "      <td>Monday</td>\n",
       "      <td>ROGUE HILL GO STATION</td>\n",
       "      <td>Vision</td>\n",
       "      <td>10</td>\n",
       "      <td>20</td>\n",
       "      <td>E</td>\n",
       "      <td>8625</td>\n",
       "    </tr>\n",
       "  </tbody>\n",
       "</table>\n",
       "</div>"
      ],
      "text/plain": [
       "            Date Route   Time     Day               Location  \\\n",
       "45290  30-Sep-24   108  01:00  Monday  SHEPPARD WEST STATION   \n",
       "45291  30-Sep-24    29  01:11  Monday       SPRINGHURST LOOP   \n",
       "45292  30-Sep-24   169  01:24  Monday    BRIAN AND VAN HORNE   \n",
       "45293  30-Sep-24    47  01:25  Monday  LANSDOWNE AND COLLEGE   \n",
       "45294  30-Sep-24   102  01:26  Monday      137 THE WEST MALL   \n",
       "45295  30-Sep-24    63  01:29  Monday       KING AND DOWLING   \n",
       "45296  30-Sep-24    32  01:37  Monday   EGLINTON AND OAKWOOD   \n",
       "45297  30-Sep-24    63  01:39  Monday      OSSINGTON STATION   \n",
       "45298  30-Sep-24    31  01:46  Monday        COXWELL STATION   \n",
       "45299  30-Sep-24    54  01:55  Monday  ROGUE HILL GO STATION   \n",
       "\n",
       "                    Incident  Min Delay  Min Gap Direction  Vehicle  \n",
       "45290                 Vision         16       32         S     8943  \n",
       "45291     Emergency Services         12       24       NaN     9146  \n",
       "45292          General Delay         30       30         W     1653  \n",
       "45293        Collision - TTC         10       20         N     3523  \n",
       "45294  Operations - Operator         17       34         W     8156  \n",
       "45295                 Vision         10       20         S     7042  \n",
       "45296                 Vision         13       18         E     7212  \n",
       "45297                 Vision         10       20         N     7098  \n",
       "45298     Emergency Services         17       34       NaN     8570  \n",
       "45299                 Vision         10       20         E     8625  "
      ]
     },
     "execution_count": 22,
     "metadata": {},
     "output_type": "execute_result"
    }
   ],
   "source": [
    "from datetime import datetime\n",
    "import pandas as pd \n",
    "\n",
    "delay_df = pd.read_csv(\"data/ttc-bus-delay-data-2024.csv\", sep=\",\", header=0)\n",
    "delay_df.tail(10)"
   ]
  },
  {
   "cell_type": "markdown",
   "metadata": {},
   "source": [
    "Todo: Make the following a function"
   ]
  },
  {
   "cell_type": "code",
   "execution_count": 23,
   "metadata": {},
   "outputs": [
    {
     "data": {
      "text/plain": [
       "Timestamp('2024-09-30 00:00:00')"
      ]
     },
     "metadata": {},
     "output_type": "display_data"
    }
   ],
   "source": [
    "delay_df['Date'] = pd.to_datetime(delay_df['Date'],  format='%d-%b-%y')\n",
    "display(max(delay_df['Date']))\n"
   ]
  },
  {
   "cell_type": "code",
   "execution_count": 26,
   "metadata": {},
   "outputs": [
    {
     "data": {
      "text/plain": [
       "Timestamp('2024-06-23 00:00:00')"
      ]
     },
     "metadata": {},
     "output_type": "display_data"
    },
    {
     "data": {
      "text/plain": [
       "Timestamp('2024-07-27 00:00:00')"
      ]
     },
     "metadata": {},
     "output_type": "display_data"
    }
   ],
   "source": [
    "sample_df = delay_df.loc[(delay_df['Date'] >= datetime(2024, 6, 23)) & (delay_df['Date'] <= datetime(2024, 7, 27))]\n",
    "display(min(sample_df['Date']))\n",
    "display(max(sample_df['Date']))"
   ]
  },
  {
   "cell_type": "code",
   "execution_count": 29,
   "metadata": {},
   "outputs": [],
   "source": [
    "sample_df.to_csv('delay' + min(sample_df['Date']).strftime(\"%Y-%m-%d\") + 'To'+ max(sample_df['Date']).strftime(\"%Y-%m-%d\") + '.csv')"
   ]
  }
 ],
 "metadata": {
  "kernelspec": {
   "display_name": "Python 3",
   "language": "python",
   "name": "python3"
  },
  "language_info": {
   "codemirror_mode": {
    "name": "ipython",
    "version": 3
   },
   "file_extension": ".py",
   "mimetype": "text/x-python",
   "name": "python",
   "nbconvert_exporter": "python",
   "pygments_lexer": "ipython3",
   "version": "3.9.6"
  }
 },
 "nbformat": 4,
 "nbformat_minor": 2
}
