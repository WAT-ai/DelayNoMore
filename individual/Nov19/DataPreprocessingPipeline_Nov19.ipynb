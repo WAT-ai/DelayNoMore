{
  "cells": [
    {
      "cell_type": "code",
      "execution_count": 48,
      "metadata": {
        "colab": {
          "base_uri": "https://localhost:8080/"
        },
        "id": "oAMlLd1ufbsN",
        "outputId": "aa499315-91d2-4120-a228-061134b60838"
      },
      "outputs": [
        {
          "output_type": "stream",
          "name": "stdout",
          "text": [
            "Requirement already satisfied: river in /usr/local/lib/python3.10/dist-packages (0.21.2)\n",
            "Requirement already satisfied: numpy<2.0.0,>=1.23.0 in /usr/local/lib/python3.10/dist-packages (from river) (1.26.4)\n",
            "Requirement already satisfied: pandas<3.0,>=2.1 in /usr/local/lib/python3.10/dist-packages (from river) (2.2.2)\n",
            "Requirement already satisfied: scipy<2.0.0,>=1.12.1 in /usr/local/lib/python3.10/dist-packages (from river) (1.13.1)\n",
            "Requirement already satisfied: python-dateutil>=2.8.2 in /usr/local/lib/python3.10/dist-packages (from pandas<3.0,>=2.1->river) (2.8.2)\n",
            "Requirement already satisfied: pytz>=2020.1 in /usr/local/lib/python3.10/dist-packages (from pandas<3.0,>=2.1->river) (2024.2)\n",
            "Requirement already satisfied: tzdata>=2022.7 in /usr/local/lib/python3.10/dist-packages (from pandas<3.0,>=2.1->river) (2024.2)\n",
            "Requirement already satisfied: six>=1.5 in /usr/local/lib/python3.10/dist-packages (from python-dateutil>=2.8.2->pandas<3.0,>=2.1->river) (1.16.0)\n"
          ]
        }
      ],
      "source": [
        "!pip install river\n",
        "#order goes:\n",
        "#imputing -> scaling -> encoding -> ARF instantiation -> incremental training with ADWIN\n"
      ]
    },
    {
      "cell_type": "markdown",
      "source": [
        "**Installing packages**"
      ],
      "metadata": {
        "id": "bQxwlXQVSZeC"
      }
    },
    {
      "cell_type": "code",
      "execution_count": 88,
      "metadata": {
        "id": "p9pzxXvABofs"
      },
      "outputs": [],
      "source": [
        "import numpy as np\n",
        "import pandas as pd\n",
        "import matplotlib.pyplot as plt\n",
        "import river\n",
        "from river import preprocessing, stats, compose, metrics\n",
        "from river import drift, ensemble, forest\n",
        "from river.drift import ADWIN\n",
        "from river.compose import Pipeline"
      ]
    },
    {
      "cell_type": "markdown",
      "source": [
        "**Extracting data**"
      ],
      "metadata": {
        "id": "rbOiUnqvSKqd"
      }
    },
    {
      "cell_type": "code",
      "execution_count": 129,
      "metadata": {
        "colab": {
          "base_uri": "https://localhost:8080/"
        },
        "id": "8ms-fUvWBspm",
        "outputId": "0b4854d6-13a6-4d44-d23f-78a0968fe859"
      },
      "outputs": [
        {
          "output_type": "stream",
          "name": "stdout",
          "text": [
            "         Date  Route   Time     Day                Location  \\\n",
            "0  2023-01-01   91.0  02:30  Sunday   WOODBINE AND MORTIMER   \n",
            "1  2023-01-01   69.0  02:34  Sunday          WARDEN STATION   \n",
            "2  2023-01-01   35.0  03:06  Sunday            JANE STATION   \n",
            "3  2023-01-01    NaN  03:14  Sunday         KIPLING STATION   \n",
            "4  2023-01-01    NaN  03:43  Sunday          MEADOWALE LOOP   \n",
            "..        ...    ...    ...     ...                     ...   \n",
            "89 2023-01-01   17.0  21:20  Sunday  WARDEN LOOP AT STEELES   \n",
            "90 2023-01-01   60.0  21:39  Sunday       STEELES AND KEELE   \n",
            "91 2023-01-01   60.0  21:39  Sunday       HOWARD MOSCOE WAY   \n",
            "92 2023-01-01   25.0  21:42  Sunday       PAPE AND MORTIMER   \n",
            "93 2023-01-01   14.0  22:48  Sunday      CHAPLIN AND ORIOLE   \n",
            "\n",
            "                 Incident  Min Delay  Min Gap Direction  \n",
            "0               Diversion         81      111         S  \n",
            "1                Security         22       44         S  \n",
            "2   Cleaning - Unsanitary         30       60         N  \n",
            "3                Security         17       17         S  \n",
            "4                Security          1        1         S  \n",
            "..                    ...        ...      ...       ...  \n",
            "89             Mechanical         22       44         S  \n",
            "90  Operations - Operator         10       20         W  \n",
            "91  Operations - Operator         10       20       NaN  \n",
            "92             Mechanical          9       18         N  \n",
            "93        Collision - TTC         21       42         E  \n",
            "\n",
            "[94 rows x 9 columns]\n"
          ]
        }
      ],
      "source": [
        "dataset = pd.read_excel('ttc-bus-delay-data-2023.xlsx')\n",
        "X = dataset.iloc[:, :-1] #or whatever column we want the INDEPENDENT variables (Weather, route number, time of day, etc.)\n",
        "y = dataset.iloc[:, -1].values #or whatever column we want the DEPENDENT variables (I'm guessing the delay time)\n",
        "\n",
        "\n",
        "print(X)\n",
        "\n"
      ]
    },
    {
      "cell_type": "markdown",
      "source": [
        "**Imputing (Filling out missing values)**"
      ],
      "metadata": {
        "id": "5jK4YwlASc2L"
      }
    },
    {
      "cell_type": "code",
      "source": [
        "#NOT WORKING\n",
        "\n",
        "imputer = preprocessing.StatImputer(('Direction', stats.Mode()))\n",
        "\n",
        "for index, row in X.iterrows():\n",
        "\n",
        "    row_dict = row.to_dict()\n",
        "\n",
        "    imputer.learn_one(row_dict)\n",
        "\n",
        "    transformed_row = imputer.transform_one(row_dict)\n",
        "    X.at[index, \"Direction\"] = transformed_row.get(\"Direction\", row[\"Direction\"])\n",
        "\n",
        "print(X)"
      ],
      "metadata": {
        "colab": {
          "base_uri": "https://localhost:8080/"
        },
        "id": "ZuJCe7vyJEEJ",
        "outputId": "b303ceb6-720a-44f2-e072-375a728b2461"
      },
      "execution_count": 130,
      "outputs": [
        {
          "output_type": "stream",
          "name": "stdout",
          "text": [
            "         Date  Route   Time     Day                Location  \\\n",
            "0  2023-01-01   91.0  02:30  Sunday   WOODBINE AND MORTIMER   \n",
            "1  2023-01-01   69.0  02:34  Sunday          WARDEN STATION   \n",
            "2  2023-01-01   35.0  03:06  Sunday            JANE STATION   \n",
            "3  2023-01-01    NaN  03:14  Sunday         KIPLING STATION   \n",
            "4  2023-01-01    NaN  03:43  Sunday          MEADOWALE LOOP   \n",
            "..        ...    ...    ...     ...                     ...   \n",
            "89 2023-01-01   17.0  21:20  Sunday  WARDEN LOOP AT STEELES   \n",
            "90 2023-01-01   60.0  21:39  Sunday       STEELES AND KEELE   \n",
            "91 2023-01-01   60.0  21:39  Sunday       HOWARD MOSCOE WAY   \n",
            "92 2023-01-01   25.0  21:42  Sunday       PAPE AND MORTIMER   \n",
            "93 2023-01-01   14.0  22:48  Sunday      CHAPLIN AND ORIOLE   \n",
            "\n",
            "                 Incident  Min Delay  Min Gap Direction  \n",
            "0               Diversion         81      111         S  \n",
            "1                Security         22       44         S  \n",
            "2   Cleaning - Unsanitary         30       60         N  \n",
            "3                Security         17       17         S  \n",
            "4                Security          1        1         S  \n",
            "..                    ...        ...      ...       ...  \n",
            "89             Mechanical         22       44         S  \n",
            "90  Operations - Operator         10       20         W  \n",
            "91  Operations - Operator         10       20       NaN  \n",
            "92             Mechanical          9       18         N  \n",
            "93        Collision - TTC         21       42         E  \n",
            "\n",
            "[94 rows x 9 columns]\n"
          ]
        }
      ]
    },
    {
      "cell_type": "code",
      "source": [
        "print(dataset.iloc[0:10, 8])"
      ],
      "metadata": {
        "colab": {
          "base_uri": "https://localhost:8080/"
        },
        "id": "q3f7xOccMe_y",
        "outputId": "57a36725-6844-4e2f-c093-b3a51ad9095e"
      },
      "execution_count": 128,
      "outputs": [
        {
          "output_type": "stream",
          "name": "stdout",
          "text": [
            "0      S\n",
            "1      S\n",
            "2      N\n",
            "3      S\n",
            "4      S\n",
            "5    NaN\n",
            "6    NaN\n",
            "7      E\n",
            "8      W\n",
            "9    NaN\n",
            "Name: Direction, dtype: object\n"
          ]
        }
      ]
    },
    {
      "cell_type": "markdown",
      "source": [
        "**Scaling (to values with mean = 0 and variance +- 1)**"
      ],
      "metadata": {
        "id": "7TrJA-EGSoDI"
      }
    },
    {
      "cell_type": "code",
      "source": [
        "scaler = preprocessing.StandardScaler()\n",
        "\n",
        "for index, row in X.iterrows():\n",
        "    row_dict = row.to_dict()\n",
        "\n",
        "    scaler.learn_one({\"Min Delay\": row[\"Min Delay\"]})\n",
        "\n",
        "    scaled_value = scaler.transform_one({\"Min Delay\": row[\"Min Delay\"]})\n",
        "\n",
        "    X.at[index, \"Min Delay\"] = scaled_value[\"Min Delay\"]\n",
        "\n",
        "print(X)\n"
      ],
      "metadata": {
        "colab": {
          "base_uri": "https://localhost:8080/"
        },
        "id": "-sCooDuAFjko",
        "outputId": "a7d085c2-07fb-4fcd-bcac-5024f9627e8d"
      },
      "execution_count": 70,
      "outputs": [
        {
          "output_type": "stream",
          "name": "stdout",
          "text": [
            "         Date  Route   Time     Day                Location  \\\n",
            "0  2023-01-01   91.0  02:30  Sunday   WOODBINE AND MORTIMER   \n",
            "1  2023-01-01   69.0  02:34  Sunday          WARDEN STATION   \n",
            "2  2023-01-01   35.0  03:06  Sunday            JANE STATION   \n",
            "3  2023-01-01    NaN  03:14  Sunday         KIPLING STATION   \n",
            "4  2023-01-01    NaN  03:43  Sunday          MEADOWALE LOOP   \n",
            "..        ...    ...    ...     ...                     ...   \n",
            "89 2023-01-01   17.0  21:20  Sunday  WARDEN LOOP AT STEELES   \n",
            "90 2023-01-01   60.0  21:39  Sunday       STEELES AND KEELE   \n",
            "91 2023-01-01   60.0  21:39  Sunday       HOWARD MOSCOE WAY   \n",
            "92 2023-01-01   25.0  21:42  Sunday       PAPE AND MORTIMER   \n",
            "93 2023-01-01   14.0  22:48  Sunday      CHAPLIN AND ORIOLE   \n",
            "\n",
            "                 Incident  Min Delay  Min Gap Direction  \n",
            "0               Diversion   0.000000      111         S  \n",
            "1                Security  -1.000000       44         S  \n",
            "2   Cleaning - Unsanitary  -0.548494       60         N  \n",
            "3                Security  -0.802688       17         S  \n",
            "4                Security  -1.077088        1         S  \n",
            "..                    ...        ...      ...       ...  \n",
            "89             Mechanical   0.025743       44         S  \n",
            "90  Operations - Operator  -0.278119       20         W  \n",
            "91  Operations - Operator  -0.276487       20       NaN  \n",
            "92             Mechanical  -0.300430       18         N  \n",
            "93        Collision - TTC   0.009675       42         E  \n",
            "\n",
            "[94 rows x 9 columns]\n"
          ]
        },
        {
          "output_type": "stream",
          "name": "stderr",
          "text": [
            "<ipython-input-70-0a9d2de303b0>:10: FutureWarning: Setting an item of incompatible dtype is deprecated and will raise an error in a future version of pandas. Value '-0.5484943744017863' has dtype incompatible with int64, please explicitly cast to a compatible dtype first.\n",
            "  X.at[index, \"Min Delay\"] = scaled_value[\"Min Delay\"]\n"
          ]
        }
      ]
    },
    {
      "cell_type": "markdown",
      "source": [
        "**Encoding (Giving value = 1 to group categorical data)**"
      ],
      "metadata": {
        "id": "kjsnHkAlSxqO"
      }
    },
    {
      "cell_type": "code",
      "source": [
        "encoder = preprocessing.OneHotEncoder()\n",
        "\n",
        "for index, row in X.iterrows():\n",
        "\n",
        "    row_dict = row.to_dict()\n",
        "\n",
        "    encoder.learn_one({\"Incident\": row[\"Incident\"]})\n",
        "\n",
        "    encoded_row = encoder.transform_one({\"Incident\": row[\"Incident\"]})\n",
        "\n",
        "    for key, value in encoded_row.items():\n",
        "        if key not in X.columns:\n",
        "            X[key] = 0\n",
        "\n",
        "        X.at[index, key] = value\n",
        "\n",
        "print(X)"
      ],
      "metadata": {
        "colab": {
          "base_uri": "https://localhost:8080/"
        },
        "id": "FUJI_Z-lNH0P",
        "outputId": "b32c3a54-3aa0-44ca-ac84-b73ab5ccc7e9"
      },
      "execution_count": 71,
      "outputs": [
        {
          "output_type": "stream",
          "name": "stdout",
          "text": [
            "         Date  Route   Time     Day                Location  \\\n",
            "0  2023-01-01   91.0  02:30  Sunday   WOODBINE AND MORTIMER   \n",
            "1  2023-01-01   69.0  02:34  Sunday          WARDEN STATION   \n",
            "2  2023-01-01   35.0  03:06  Sunday            JANE STATION   \n",
            "3  2023-01-01    NaN  03:14  Sunday         KIPLING STATION   \n",
            "4  2023-01-01    NaN  03:43  Sunday          MEADOWALE LOOP   \n",
            "..        ...    ...    ...     ...                     ...   \n",
            "89 2023-01-01   17.0  21:20  Sunday  WARDEN LOOP AT STEELES   \n",
            "90 2023-01-01   60.0  21:39  Sunday       STEELES AND KEELE   \n",
            "91 2023-01-01   60.0  21:39  Sunday       HOWARD MOSCOE WAY   \n",
            "92 2023-01-01   25.0  21:42  Sunday       PAPE AND MORTIMER   \n",
            "93 2023-01-01   14.0  22:48  Sunday      CHAPLIN AND ORIOLE   \n",
            "\n",
            "                 Incident  Min Delay  Min Gap Direction  Incident_Diversion  \\\n",
            "0               Diversion   0.000000      111         S                   1   \n",
            "1                Security  -1.000000       44         S                   0   \n",
            "2   Cleaning - Unsanitary  -0.548494       60         N                   0   \n",
            "3                Security  -0.802688       17         S                   0   \n",
            "4                Security  -1.077088        1         S                   0   \n",
            "..                    ...        ...      ...       ...                 ...   \n",
            "89             Mechanical   0.025743       44         S                   0   \n",
            "90  Operations - Operator  -0.278119       20         W                   0   \n",
            "91  Operations - Operator  -0.276487       20       NaN                   0   \n",
            "92             Mechanical  -0.300430       18         N                   0   \n",
            "93        Collision - TTC   0.009675       42         E                   0   \n",
            "\n",
            "    Incident_Security  Incident_Cleaning - Unsanitary  \\\n",
            "0                   0                               0   \n",
            "1                   1                               0   \n",
            "2                   0                               1   \n",
            "3                   1                               0   \n",
            "4                   1                               0   \n",
            "..                ...                             ...   \n",
            "89                  0                               0   \n",
            "90                  0                               0   \n",
            "91                  0                               0   \n",
            "92                  0                               0   \n",
            "93                  0                               0   \n",
            "\n",
            "    Incident_Emergency Services  Incident_Collision - TTC  \\\n",
            "0                             0                         0   \n",
            "1                             0                         0   \n",
            "2                             0                         0   \n",
            "3                             0                         0   \n",
            "4                             0                         0   \n",
            "..                          ...                       ...   \n",
            "89                            0                         0   \n",
            "90                            0                         0   \n",
            "91                            0                         0   \n",
            "92                            0                         0   \n",
            "93                            0                         1   \n",
            "\n",
            "    Incident_Mechanical  Incident_Operations - Operator  \\\n",
            "0                     0                               0   \n",
            "1                     0                               0   \n",
            "2                     0                               0   \n",
            "3                     0                               0   \n",
            "4                     0                               0   \n",
            "..                  ...                             ...   \n",
            "89                    1                               0   \n",
            "90                    0                               1   \n",
            "91                    0                               1   \n",
            "92                    1                               0   \n",
            "93                    0                               0   \n",
            "\n",
            "    Incident_Investigation  \n",
            "0                        0  \n",
            "1                        0  \n",
            "2                        0  \n",
            "3                        0  \n",
            "4                        0  \n",
            "..                     ...  \n",
            "89                       0  \n",
            "90                       0  \n",
            "91                       0  \n",
            "92                       0  \n",
            "93                       0  \n",
            "\n",
            "[94 rows x 17 columns]\n"
          ]
        }
      ]
    },
    {
      "cell_type": "markdown",
      "source": [
        "**ARF with ADWIN**"
      ],
      "metadata": {
        "id": "vRne2IvxS5jY"
      }
    },
    {
      "cell_type": "code",
      "source": [
        "print(X.dtypes)"
      ],
      "metadata": {
        "colab": {
          "base_uri": "https://localhost:8080/"
        },
        "id": "CaO2GmoSfiNl",
        "outputId": "d902caf7-67b4-46fe-9f1b-7cd642c45537"
      },
      "execution_count": 84,
      "outputs": [
        {
          "output_type": "stream",
          "name": "stdout",
          "text": [
            "Date                              datetime64[ns]\n",
            "Route                                    float64\n",
            "Time                                      object\n",
            "Day                                       object\n",
            "Location                                  object\n",
            "Incident                                  object\n",
            "Min Delay                                float64\n",
            "Min Gap                                    int64\n",
            "Direction                                 object\n",
            "Incident_Diversion                         int64\n",
            "Incident_Security                          int64\n",
            "Incident_Cleaning - Unsanitary             int64\n",
            "Incident_Emergency Services                int64\n",
            "Incident_Collision - TTC                   int64\n",
            "Incident_Mechanical                        int64\n",
            "Incident_Operations - Operator             int64\n",
            "Incident_Investigation                     int64\n",
            "dtype: object\n"
          ]
        }
      ]
    },
    {
      "cell_type": "code",
      "source": [
        "arf = forest.ARFClassifier()\n",
        "adwin = drift.ADWIN()\n",
        "metric = metrics.Accuracy()\n",
        "#whats next??"
      ],
      "metadata": {
        "id": "BGxrzXHDhlHu"
      },
      "execution_count": 89,
      "outputs": []
    }
  ],
  "metadata": {
    "colab": {
      "provenance": []
    },
    "kernelspec": {
      "display_name": "Python 3",
      "name": "python3"
    },
    "language_info": {
      "name": "python"
    }
  },
  "nbformat": 4,
  "nbformat_minor": 0
}