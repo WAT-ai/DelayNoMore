{
  "cells": [
    {
      "cell_type": "code",
      "execution_count": 1,
      "metadata": {
        "id": "xy-hPVCNG7we"
      },
      "outputs": [],
      "source": [
        "import pandas as pd"
      ]
    },
    {
      "cell_type": "code",
      "execution_count": 2,
      "metadata": {
        "colab": {
          "base_uri": "https://localhost:8080/"
        },
        "id": "K7Z5Dy1QHMQn",
        "outputId": "516ce952-299a-495e-ae4b-cf57f136a29a"
      },
      "outputs": [
        {
          "name": "stdout",
          "output_type": "stream",
          "text": [
            "[8772 8407 1051 ... 7010 8761 7287]\n",
            "56207\n"
          ]
        }
      ],
      "source": [
        "df = pd.read_csv('ttc-bus-delay-data-2023.csv')\n",
        "X = df.iloc[:, 9].values\n",
        "print(X)\n",
        "print(len(X))"
      ]
    },
    {
      "cell_type": "code",
      "execution_count": 7,
      "metadata": {
        "colab": {
          "base_uri": "https://localhost:8080/"
        },
        "id": "aTiUI0r-H5fn",
        "outputId": "503d29e1-b618-45e9-b2b9-3c2782af02da"
      },
      "outputs": [
        {
          "name": "stdout",
          "output_type": "stream",
          "text": [
            "1011\n"
          ]
        }
      ],
      "source": [
        "delays = 0\n",
        "for i in range(0,len(X)-1):\n",
        "  if X[i] == X[i+1]:\n",
        "    delays+=1\n",
        "\n",
        " \n",
        "print(delays)"
      ]
    },
    {
      "cell_type": "code",
      "execution_count": 6,
      "metadata": {
        "colab": {
          "base_uri": "https://localhost:8080/"
        },
        "id": "hibhnxWwH7RM",
        "outputId": "da3cacec-07af-4664-8f90-ae0058504b38"
      },
      "outputs": [
        {
          "name": "stdout",
          "output_type": "stream",
          "text": [
            "['91' '69' '35' ... '63' '34' '41']\n",
            "[]\n"
          ]
        }
      ],
      "source": [
        "Y = df.iloc[:, 1].values\n",
        "print(Y)\n",
        "route = []\n",
        "for i in range(0,len(Y)):\n",
        "  if Y[i] == 32:\n",
        "    route.append(X[i])\n",
        "print(route)\n",
        "\n",
        "#the best route to pick for analysis is route 32\n",
        "#delays at one stop typically do not affect the next (at least for this dataset, might have already accounted for it)\n",
        "#only 1011/56207 (1.8%) of delays are subsequent delays"
      ]
    }
  ],
  "metadata": {
    "colab": {
      "provenance": []
    },
    "kernelspec": {
      "display_name": "Python 3",
      "name": "python3"
    },
    "language_info": {
      "codemirror_mode": {
        "name": "ipython",
        "version": 3
      },
      "file_extension": ".py",
      "mimetype": "text/x-python",
      "name": "python",
      "nbconvert_exporter": "python",
      "pygments_lexer": "ipython3",
      "version": "3.12.3"
    }
  },
  "nbformat": 4,
  "nbformat_minor": 0
}
