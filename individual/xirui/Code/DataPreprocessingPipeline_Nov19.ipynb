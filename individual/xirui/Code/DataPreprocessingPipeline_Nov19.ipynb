{
 "cells": [
  {
   "cell_type": "code",
   "execution_count": 48,
   "metadata": {
    "colab": {
     "base_uri": "https://localhost:8080/"
    },
    "id": "oAMlLd1ufbsN",
    "outputId": "aa499315-91d2-4120-a228-061134b60838"
   },
   "outputs": [
    {
     "name": "stdout",
     "output_type": "stream",
     "text": [
      "Requirement already satisfied: river in /usr/local/lib/python3.10/dist-packages (0.21.2)\n",
      "Requirement already satisfied: numpy<2.0.0,>=1.23.0 in /usr/local/lib/python3.10/dist-packages (from river) (1.26.4)\n",
      "Requirement already satisfied: pandas<3.0,>=2.1 in /usr/local/lib/python3.10/dist-packages (from river) (2.2.2)\n",
      "Requirement already satisfied: scipy<2.0.0,>=1.12.1 in /usr/local/lib/python3.10/dist-packages (from river) (1.13.1)\n",
      "Requirement already satisfied: python-dateutil>=2.8.2 in /usr/local/lib/python3.10/dist-packages (from pandas<3.0,>=2.1->river) (2.8.2)\n",
      "Requirement already satisfied: pytz>=2020.1 in /usr/local/lib/python3.10/dist-packages (from pandas<3.0,>=2.1->river) (2024.2)\n",
      "Requirement already satisfied: tzdata>=2022.7 in /usr/local/lib/python3.10/dist-packages (from pandas<3.0,>=2.1->river) (2024.2)\n",
      "Requirement already satisfied: six>=1.5 in /usr/local/lib/python3.10/dist-packages (from python-dateutil>=2.8.2->pandas<3.0,>=2.1->river) (1.16.0)\n"
     ]
    }
   ],
   "source": [
    "!pip install river\n",
    "#order goes:\n",
    "#imputing -> scaling -> encoding -> ARF instantiation -> incremental training with ADWIN\n"
   ]
  },
  {
   "cell_type": "markdown",
   "metadata": {
    "id": "bQxwlXQVSZeC"
   },
   "source": [
    "**Installing packages**"
   ]
  },
  {
   "cell_type": "code",
   "execution_count": 3,
   "metadata": {
    "id": "p9pzxXvABofs"
   },
   "outputs": [],
   "source": [
    "import numpy as np\n",
    "import pandas as pd\n",
    "import matplotlib.pyplot as plt\n",
    "import river\n",
    "from river import preprocessing, stats, compose, metrics\n",
    "from river import drift, ensemble, forest\n",
    "from river.drift import ADWIN\n",
    "from river.compose import Pipeline"
   ]
  },
  {
   "cell_type": "markdown",
   "metadata": {
    "id": "rbOiUnqvSKqd"
   },
   "source": [
    "**Extracting data**"
   ]
  },
  {
   "cell_type": "code",
   "execution_count": 4,
   "metadata": {
    "colab": {
     "base_uri": "https://localhost:8080/"
    },
    "id": "8ms-fUvWBspm",
    "outputId": "0b4854d6-13a6-4d44-d23f-78a0968fe859"
   },
   "outputs": [
    {
     "ename": "ImportError",
     "evalue": "Missing optional dependency 'openpyxl'.  Use pip or conda to install openpyxl.",
     "output_type": "error",
     "traceback": [
      "\u001b[0;31m---------------------------------------------------------------------------\u001b[0m",
      "\u001b[0;31mModuleNotFoundError\u001b[0m                       Traceback (most recent call last)",
      "File \u001b[0;32m~/Desktop/School/University of Waterloo/Design Teams/Xirui /.venv/lib/python3.12/site-packages/pandas/compat/_optional.py:135\u001b[0m, in \u001b[0;36mimport_optional_dependency\u001b[0;34m(name, extra, errors, min_version)\u001b[0m\n\u001b[1;32m    134\u001b[0m \u001b[38;5;28;01mtry\u001b[39;00m:\n\u001b[0;32m--> 135\u001b[0m     module \u001b[38;5;241m=\u001b[39m \u001b[43mimportlib\u001b[49m\u001b[38;5;241;43m.\u001b[39;49m\u001b[43mimport_module\u001b[49m\u001b[43m(\u001b[49m\u001b[43mname\u001b[49m\u001b[43m)\u001b[49m\n\u001b[1;32m    136\u001b[0m \u001b[38;5;28;01mexcept\u001b[39;00m \u001b[38;5;167;01mImportError\u001b[39;00m:\n",
      "File \u001b[0;32m/Library/Frameworks/Python.framework/Versions/3.12/lib/python3.12/importlib/__init__.py:90\u001b[0m, in \u001b[0;36mimport_module\u001b[0;34m(name, package)\u001b[0m\n\u001b[1;32m     89\u001b[0m         level \u001b[38;5;241m+\u001b[39m\u001b[38;5;241m=\u001b[39m \u001b[38;5;241m1\u001b[39m\n\u001b[0;32m---> 90\u001b[0m \u001b[38;5;28;01mreturn\u001b[39;00m \u001b[43m_bootstrap\u001b[49m\u001b[38;5;241;43m.\u001b[39;49m\u001b[43m_gcd_import\u001b[49m\u001b[43m(\u001b[49m\u001b[43mname\u001b[49m\u001b[43m[\u001b[49m\u001b[43mlevel\u001b[49m\u001b[43m:\u001b[49m\u001b[43m]\u001b[49m\u001b[43m,\u001b[49m\u001b[43m \u001b[49m\u001b[43mpackage\u001b[49m\u001b[43m,\u001b[49m\u001b[43m \u001b[49m\u001b[43mlevel\u001b[49m\u001b[43m)\u001b[49m\n",
      "File \u001b[0;32m<frozen importlib._bootstrap>:1387\u001b[0m, in \u001b[0;36m_gcd_import\u001b[0;34m(name, package, level)\u001b[0m\n",
      "File \u001b[0;32m<frozen importlib._bootstrap>:1360\u001b[0m, in \u001b[0;36m_find_and_load\u001b[0;34m(name, import_)\u001b[0m\n",
      "File \u001b[0;32m<frozen importlib._bootstrap>:1324\u001b[0m, in \u001b[0;36m_find_and_load_unlocked\u001b[0;34m(name, import_)\u001b[0m\n",
      "\u001b[0;31mModuleNotFoundError\u001b[0m: No module named 'openpyxl'",
      "\nDuring handling of the above exception, another exception occurred:\n",
      "\u001b[0;31mImportError\u001b[0m                               Traceback (most recent call last)",
      "Cell \u001b[0;32mIn[4], line 1\u001b[0m\n\u001b[0;32m----> 1\u001b[0m dataset \u001b[38;5;241m=\u001b[39m \u001b[43mpd\u001b[49m\u001b[38;5;241;43m.\u001b[39;49m\u001b[43mread_excel\u001b[49m\u001b[43m(\u001b[49m\u001b[38;5;124;43m'\u001b[39;49m\u001b[38;5;124;43mttc-bus-delay-data-2023.xlsx\u001b[39;49m\u001b[38;5;124;43m'\u001b[39;49m\u001b[43m)\u001b[49m\n\u001b[1;32m      2\u001b[0m X \u001b[38;5;241m=\u001b[39m dataset\u001b[38;5;241m.\u001b[39miloc[:, :\u001b[38;5;241m-\u001b[39m\u001b[38;5;241m1\u001b[39m] \u001b[38;5;66;03m#or whatever column we want the INDEPENDENT variables (Weather, route number, time of day, etc.)\u001b[39;00m\n\u001b[1;32m      3\u001b[0m y \u001b[38;5;241m=\u001b[39m dataset\u001b[38;5;241m.\u001b[39miloc[:, \u001b[38;5;241m-\u001b[39m\u001b[38;5;241m1\u001b[39m]\u001b[38;5;241m.\u001b[39mvalues \u001b[38;5;66;03m#or whatever column we want the DEPENDENT variables (I'm guessing the delay time)\u001b[39;00m\n",
      "File \u001b[0;32m~/Desktop/School/University of Waterloo/Design Teams/Xirui /.venv/lib/python3.12/site-packages/pandas/io/excel/_base.py:495\u001b[0m, in \u001b[0;36mread_excel\u001b[0;34m(io, sheet_name, header, names, index_col, usecols, dtype, engine, converters, true_values, false_values, skiprows, nrows, na_values, keep_default_na, na_filter, verbose, parse_dates, date_parser, date_format, thousands, decimal, comment, skipfooter, storage_options, dtype_backend, engine_kwargs)\u001b[0m\n\u001b[1;32m    493\u001b[0m \u001b[38;5;28;01mif\u001b[39;00m \u001b[38;5;129;01mnot\u001b[39;00m \u001b[38;5;28misinstance\u001b[39m(io, ExcelFile):\n\u001b[1;32m    494\u001b[0m     should_close \u001b[38;5;241m=\u001b[39m \u001b[38;5;28;01mTrue\u001b[39;00m\n\u001b[0;32m--> 495\u001b[0m     io \u001b[38;5;241m=\u001b[39m \u001b[43mExcelFile\u001b[49m\u001b[43m(\u001b[49m\n\u001b[1;32m    496\u001b[0m \u001b[43m        \u001b[49m\u001b[43mio\u001b[49m\u001b[43m,\u001b[49m\n\u001b[1;32m    497\u001b[0m \u001b[43m        \u001b[49m\u001b[43mstorage_options\u001b[49m\u001b[38;5;241;43m=\u001b[39;49m\u001b[43mstorage_options\u001b[49m\u001b[43m,\u001b[49m\n\u001b[1;32m    498\u001b[0m \u001b[43m        \u001b[49m\u001b[43mengine\u001b[49m\u001b[38;5;241;43m=\u001b[39;49m\u001b[43mengine\u001b[49m\u001b[43m,\u001b[49m\n\u001b[1;32m    499\u001b[0m \u001b[43m        \u001b[49m\u001b[43mengine_kwargs\u001b[49m\u001b[38;5;241;43m=\u001b[39;49m\u001b[43mengine_kwargs\u001b[49m\u001b[43m,\u001b[49m\n\u001b[1;32m    500\u001b[0m \u001b[43m    \u001b[49m\u001b[43m)\u001b[49m\n\u001b[1;32m    501\u001b[0m \u001b[38;5;28;01melif\u001b[39;00m engine \u001b[38;5;129;01mand\u001b[39;00m engine \u001b[38;5;241m!=\u001b[39m io\u001b[38;5;241m.\u001b[39mengine:\n\u001b[1;32m    502\u001b[0m     \u001b[38;5;28;01mraise\u001b[39;00m \u001b[38;5;167;01mValueError\u001b[39;00m(\n\u001b[1;32m    503\u001b[0m         \u001b[38;5;124m\"\u001b[39m\u001b[38;5;124mEngine should not be specified when passing \u001b[39m\u001b[38;5;124m\"\u001b[39m\n\u001b[1;32m    504\u001b[0m         \u001b[38;5;124m\"\u001b[39m\u001b[38;5;124man ExcelFile - ExcelFile already has the engine set\u001b[39m\u001b[38;5;124m\"\u001b[39m\n\u001b[1;32m    505\u001b[0m     )\n",
      "File \u001b[0;32m~/Desktop/School/University of Waterloo/Design Teams/Xirui /.venv/lib/python3.12/site-packages/pandas/io/excel/_base.py:1567\u001b[0m, in \u001b[0;36mExcelFile.__init__\u001b[0;34m(self, path_or_buffer, engine, storage_options, engine_kwargs)\u001b[0m\n\u001b[1;32m   1564\u001b[0m \u001b[38;5;28mself\u001b[39m\u001b[38;5;241m.\u001b[39mengine \u001b[38;5;241m=\u001b[39m engine\n\u001b[1;32m   1565\u001b[0m \u001b[38;5;28mself\u001b[39m\u001b[38;5;241m.\u001b[39mstorage_options \u001b[38;5;241m=\u001b[39m storage_options\n\u001b[0;32m-> 1567\u001b[0m \u001b[38;5;28mself\u001b[39m\u001b[38;5;241m.\u001b[39m_reader \u001b[38;5;241m=\u001b[39m \u001b[38;5;28;43mself\u001b[39;49m\u001b[38;5;241;43m.\u001b[39;49m\u001b[43m_engines\u001b[49m\u001b[43m[\u001b[49m\u001b[43mengine\u001b[49m\u001b[43m]\u001b[49m\u001b[43m(\u001b[49m\n\u001b[1;32m   1568\u001b[0m \u001b[43m    \u001b[49m\u001b[38;5;28;43mself\u001b[39;49m\u001b[38;5;241;43m.\u001b[39;49m\u001b[43m_io\u001b[49m\u001b[43m,\u001b[49m\n\u001b[1;32m   1569\u001b[0m \u001b[43m    \u001b[49m\u001b[43mstorage_options\u001b[49m\u001b[38;5;241;43m=\u001b[39;49m\u001b[43mstorage_options\u001b[49m\u001b[43m,\u001b[49m\n\u001b[1;32m   1570\u001b[0m \u001b[43m    \u001b[49m\u001b[43mengine_kwargs\u001b[49m\u001b[38;5;241;43m=\u001b[39;49m\u001b[43mengine_kwargs\u001b[49m\u001b[43m,\u001b[49m\n\u001b[1;32m   1571\u001b[0m \u001b[43m\u001b[49m\u001b[43m)\u001b[49m\n",
      "File \u001b[0;32m~/Desktop/School/University of Waterloo/Design Teams/Xirui /.venv/lib/python3.12/site-packages/pandas/io/excel/_openpyxl.py:552\u001b[0m, in \u001b[0;36mOpenpyxlReader.__init__\u001b[0;34m(self, filepath_or_buffer, storage_options, engine_kwargs)\u001b[0m\n\u001b[1;32m    534\u001b[0m \u001b[38;5;129m@doc\u001b[39m(storage_options\u001b[38;5;241m=\u001b[39m_shared_docs[\u001b[38;5;124m\"\u001b[39m\u001b[38;5;124mstorage_options\u001b[39m\u001b[38;5;124m\"\u001b[39m])\n\u001b[1;32m    535\u001b[0m \u001b[38;5;28;01mdef\u001b[39;00m \u001b[38;5;21m__init__\u001b[39m(\n\u001b[1;32m    536\u001b[0m     \u001b[38;5;28mself\u001b[39m,\n\u001b[0;32m   (...)\u001b[0m\n\u001b[1;32m    539\u001b[0m     engine_kwargs: \u001b[38;5;28mdict\u001b[39m \u001b[38;5;241m|\u001b[39m \u001b[38;5;28;01mNone\u001b[39;00m \u001b[38;5;241m=\u001b[39m \u001b[38;5;28;01mNone\u001b[39;00m,\n\u001b[1;32m    540\u001b[0m ) \u001b[38;5;241m-\u001b[39m\u001b[38;5;241m>\u001b[39m \u001b[38;5;28;01mNone\u001b[39;00m:\n\u001b[1;32m    541\u001b[0m \u001b[38;5;250m    \u001b[39m\u001b[38;5;124;03m\"\"\"\u001b[39;00m\n\u001b[1;32m    542\u001b[0m \u001b[38;5;124;03m    Reader using openpyxl engine.\u001b[39;00m\n\u001b[1;32m    543\u001b[0m \n\u001b[0;32m   (...)\u001b[0m\n\u001b[1;32m    550\u001b[0m \u001b[38;5;124;03m        Arbitrary keyword arguments passed to excel engine.\u001b[39;00m\n\u001b[1;32m    551\u001b[0m \u001b[38;5;124;03m    \"\"\"\u001b[39;00m\n\u001b[0;32m--> 552\u001b[0m     \u001b[43mimport_optional_dependency\u001b[49m\u001b[43m(\u001b[49m\u001b[38;5;124;43m\"\u001b[39;49m\u001b[38;5;124;43mopenpyxl\u001b[39;49m\u001b[38;5;124;43m\"\u001b[39;49m\u001b[43m)\u001b[49m\n\u001b[1;32m    553\u001b[0m     \u001b[38;5;28msuper\u001b[39m()\u001b[38;5;241m.\u001b[39m\u001b[38;5;21m__init__\u001b[39m(\n\u001b[1;32m    554\u001b[0m         filepath_or_buffer,\n\u001b[1;32m    555\u001b[0m         storage_options\u001b[38;5;241m=\u001b[39mstorage_options,\n\u001b[1;32m    556\u001b[0m         engine_kwargs\u001b[38;5;241m=\u001b[39mengine_kwargs,\n\u001b[1;32m    557\u001b[0m     )\n",
      "File \u001b[0;32m~/Desktop/School/University of Waterloo/Design Teams/Xirui /.venv/lib/python3.12/site-packages/pandas/compat/_optional.py:138\u001b[0m, in \u001b[0;36mimport_optional_dependency\u001b[0;34m(name, extra, errors, min_version)\u001b[0m\n\u001b[1;32m    136\u001b[0m \u001b[38;5;28;01mexcept\u001b[39;00m \u001b[38;5;167;01mImportError\u001b[39;00m:\n\u001b[1;32m    137\u001b[0m     \u001b[38;5;28;01mif\u001b[39;00m errors \u001b[38;5;241m==\u001b[39m \u001b[38;5;124m\"\u001b[39m\u001b[38;5;124mraise\u001b[39m\u001b[38;5;124m\"\u001b[39m:\n\u001b[0;32m--> 138\u001b[0m         \u001b[38;5;28;01mraise\u001b[39;00m \u001b[38;5;167;01mImportError\u001b[39;00m(msg)\n\u001b[1;32m    139\u001b[0m     \u001b[38;5;28;01mreturn\u001b[39;00m \u001b[38;5;28;01mNone\u001b[39;00m\n\u001b[1;32m    141\u001b[0m \u001b[38;5;66;03m# Handle submodules: if we have submodule, grab parent module from sys.modules\u001b[39;00m\n",
      "\u001b[0;31mImportError\u001b[0m: Missing optional dependency 'openpyxl'.  Use pip or conda to install openpyxl."
     ]
    }
   ],
   "source": [
    "dataset = pd.read_excel('ttc-bus-delay-data-2023.xlsx')\n",
    "X = dataset.iloc[:, :-1] #or whatever column we want the INDEPENDENT variables (Weather, route number, time of day, etc.)\n",
    "y = dataset.iloc[:, -1].values #or whatever column we want the DEPENDENT variables (I'm guessing the delay time)\n",
    "\n",
    "\n",
    "print(X)\n",
    "\n"
   ]
  },
  {
   "cell_type": "markdown",
   "metadata": {
    "id": "5jK4YwlASc2L"
   },
   "source": [
    "**Imputing (Filling out missing values)**"
   ]
  },
  {
   "cell_type": "code",
   "execution_count": 130,
   "metadata": {
    "colab": {
     "base_uri": "https://localhost:8080/"
    },
    "id": "ZuJCe7vyJEEJ",
    "outputId": "b303ceb6-720a-44f2-e072-375a728b2461"
   },
   "outputs": [
    {
     "name": "stdout",
     "output_type": "stream",
     "text": [
      "         Date  Route   Time     Day                Location  \\\n",
      "0  2023-01-01   91.0  02:30  Sunday   WOODBINE AND MORTIMER   \n",
      "1  2023-01-01   69.0  02:34  Sunday          WARDEN STATION   \n",
      "2  2023-01-01   35.0  03:06  Sunday            JANE STATION   \n",
      "3  2023-01-01    NaN  03:14  Sunday         KIPLING STATION   \n",
      "4  2023-01-01    NaN  03:43  Sunday          MEADOWALE LOOP   \n",
      "..        ...    ...    ...     ...                     ...   \n",
      "89 2023-01-01   17.0  21:20  Sunday  WARDEN LOOP AT STEELES   \n",
      "90 2023-01-01   60.0  21:39  Sunday       STEELES AND KEELE   \n",
      "91 2023-01-01   60.0  21:39  Sunday       HOWARD MOSCOE WAY   \n",
      "92 2023-01-01   25.0  21:42  Sunday       PAPE AND MORTIMER   \n",
      "93 2023-01-01   14.0  22:48  Sunday      CHAPLIN AND ORIOLE   \n",
      "\n",
      "                 Incident  Min Delay  Min Gap Direction  \n",
      "0               Diversion         81      111         S  \n",
      "1                Security         22       44         S  \n",
      "2   Cleaning - Unsanitary         30       60         N  \n",
      "3                Security         17       17         S  \n",
      "4                Security          1        1         S  \n",
      "..                    ...        ...      ...       ...  \n",
      "89             Mechanical         22       44         S  \n",
      "90  Operations - Operator         10       20         W  \n",
      "91  Operations - Operator         10       20       NaN  \n",
      "92             Mechanical          9       18         N  \n",
      "93        Collision - TTC         21       42         E  \n",
      "\n",
      "[94 rows x 9 columns]\n"
     ]
    }
   ],
   "source": [
    "#NOT WORKING\n",
    "\n",
    "imputer = preprocessing.StatImputer(('Direction', stats.Mode()))\n",
    "\n",
    "for index, row in X.iterrows():\n",
    "\n",
    "    row_dict = row.to_dict()\n",
    "\n",
    "    imputer.learn_one(row_dict)\n",
    "\n",
    "    transformed_row = imputer.transform_one(row_dict)\n",
    "    X.at[index, \"Direction\"] = transformed_row.get(\"Direction\", row[\"Direction\"])\n",
    "\n",
    "print(X)"
   ]
  },
  {
   "cell_type": "code",
   "execution_count": 128,
   "metadata": {
    "colab": {
     "base_uri": "https://localhost:8080/"
    },
    "id": "q3f7xOccMe_y",
    "outputId": "57a36725-6844-4e2f-c093-b3a51ad9095e"
   },
   "outputs": [
    {
     "name": "stdout",
     "output_type": "stream",
     "text": [
      "0      S\n",
      "1      S\n",
      "2      N\n",
      "3      S\n",
      "4      S\n",
      "5    NaN\n",
      "6    NaN\n",
      "7      E\n",
      "8      W\n",
      "9    NaN\n",
      "Name: Direction, dtype: object\n"
     ]
    }
   ],
   "source": [
    "print(dataset.iloc[0:10, 8])"
   ]
  },
  {
   "cell_type": "markdown",
   "metadata": {
    "id": "7TrJA-EGSoDI"
   },
   "source": [
    "**Scaling (to values with mean = 0 and variance +- 1)**"
   ]
  },
  {
   "cell_type": "code",
   "execution_count": 70,
   "metadata": {
    "colab": {
     "base_uri": "https://localhost:8080/"
    },
    "id": "-sCooDuAFjko",
    "outputId": "a7d085c2-07fb-4fcd-bcac-5024f9627e8d"
   },
   "outputs": [
    {
     "name": "stdout",
     "output_type": "stream",
     "text": [
      "         Date  Route   Time     Day                Location  \\\n",
      "0  2023-01-01   91.0  02:30  Sunday   WOODBINE AND MORTIMER   \n",
      "1  2023-01-01   69.0  02:34  Sunday          WARDEN STATION   \n",
      "2  2023-01-01   35.0  03:06  Sunday            JANE STATION   \n",
      "3  2023-01-01    NaN  03:14  Sunday         KIPLING STATION   \n",
      "4  2023-01-01    NaN  03:43  Sunday          MEADOWALE LOOP   \n",
      "..        ...    ...    ...     ...                     ...   \n",
      "89 2023-01-01   17.0  21:20  Sunday  WARDEN LOOP AT STEELES   \n",
      "90 2023-01-01   60.0  21:39  Sunday       STEELES AND KEELE   \n",
      "91 2023-01-01   60.0  21:39  Sunday       HOWARD MOSCOE WAY   \n",
      "92 2023-01-01   25.0  21:42  Sunday       PAPE AND MORTIMER   \n",
      "93 2023-01-01   14.0  22:48  Sunday      CHAPLIN AND ORIOLE   \n",
      "\n",
      "                 Incident  Min Delay  Min Gap Direction  \n",
      "0               Diversion   0.000000      111         S  \n",
      "1                Security  -1.000000       44         S  \n",
      "2   Cleaning - Unsanitary  -0.548494       60         N  \n",
      "3                Security  -0.802688       17         S  \n",
      "4                Security  -1.077088        1         S  \n",
      "..                    ...        ...      ...       ...  \n",
      "89             Mechanical   0.025743       44         S  \n",
      "90  Operations - Operator  -0.278119       20         W  \n",
      "91  Operations - Operator  -0.276487       20       NaN  \n",
      "92             Mechanical  -0.300430       18         N  \n",
      "93        Collision - TTC   0.009675       42         E  \n",
      "\n",
      "[94 rows x 9 columns]\n"
     ]
    },
    {
     "name": "stderr",
     "output_type": "stream",
     "text": [
      "<ipython-input-70-0a9d2de303b0>:10: FutureWarning: Setting an item of incompatible dtype is deprecated and will raise an error in a future version of pandas. Value '-0.5484943744017863' has dtype incompatible with int64, please explicitly cast to a compatible dtype first.\n",
      "  X.at[index, \"Min Delay\"] = scaled_value[\"Min Delay\"]\n"
     ]
    }
   ],
   "source": [
    "scaler = preprocessing.StandardScaler()\n",
    "\n",
    "for index, row in X.iterrows():\n",
    "    row_dict = row.to_dict()\n",
    "\n",
    "    scaler.learn_one({\"Min Delay\": row[\"Min Delay\"]})\n",
    "\n",
    "    scaled_value = scaler.transform_one({\"Min Delay\": row[\"Min Delay\"]})\n",
    "\n",
    "    X.at[index, \"Min Delay\"] = scaled_value[\"Min Delay\"]\n",
    "\n",
    "print(X)\n"
   ]
  },
  {
   "cell_type": "markdown",
   "metadata": {
    "id": "kjsnHkAlSxqO"
   },
   "source": [
    "**Encoding (Giving value = 1 to group categorical data)**"
   ]
  },
  {
   "cell_type": "code",
   "execution_count": 71,
   "metadata": {
    "colab": {
     "base_uri": "https://localhost:8080/"
    },
    "id": "FUJI_Z-lNH0P",
    "outputId": "b32c3a54-3aa0-44ca-ac84-b73ab5ccc7e9"
   },
   "outputs": [
    {
     "name": "stdout",
     "output_type": "stream",
     "text": [
      "         Date  Route   Time     Day                Location  \\\n",
      "0  2023-01-01   91.0  02:30  Sunday   WOODBINE AND MORTIMER   \n",
      "1  2023-01-01   69.0  02:34  Sunday          WARDEN STATION   \n",
      "2  2023-01-01   35.0  03:06  Sunday            JANE STATION   \n",
      "3  2023-01-01    NaN  03:14  Sunday         KIPLING STATION   \n",
      "4  2023-01-01    NaN  03:43  Sunday          MEADOWALE LOOP   \n",
      "..        ...    ...    ...     ...                     ...   \n",
      "89 2023-01-01   17.0  21:20  Sunday  WARDEN LOOP AT STEELES   \n",
      "90 2023-01-01   60.0  21:39  Sunday       STEELES AND KEELE   \n",
      "91 2023-01-01   60.0  21:39  Sunday       HOWARD MOSCOE WAY   \n",
      "92 2023-01-01   25.0  21:42  Sunday       PAPE AND MORTIMER   \n",
      "93 2023-01-01   14.0  22:48  Sunday      CHAPLIN AND ORIOLE   \n",
      "\n",
      "                 Incident  Min Delay  Min Gap Direction  Incident_Diversion  \\\n",
      "0               Diversion   0.000000      111         S                   1   \n",
      "1                Security  -1.000000       44         S                   0   \n",
      "2   Cleaning - Unsanitary  -0.548494       60         N                   0   \n",
      "3                Security  -0.802688       17         S                   0   \n",
      "4                Security  -1.077088        1         S                   0   \n",
      "..                    ...        ...      ...       ...                 ...   \n",
      "89             Mechanical   0.025743       44         S                   0   \n",
      "90  Operations - Operator  -0.278119       20         W                   0   \n",
      "91  Operations - Operator  -0.276487       20       NaN                   0   \n",
      "92             Mechanical  -0.300430       18         N                   0   \n",
      "93        Collision - TTC   0.009675       42         E                   0   \n",
      "\n",
      "    Incident_Security  Incident_Cleaning - Unsanitary  \\\n",
      "0                   0                               0   \n",
      "1                   1                               0   \n",
      "2                   0                               1   \n",
      "3                   1                               0   \n",
      "4                   1                               0   \n",
      "..                ...                             ...   \n",
      "89                  0                               0   \n",
      "90                  0                               0   \n",
      "91                  0                               0   \n",
      "92                  0                               0   \n",
      "93                  0                               0   \n",
      "\n",
      "    Incident_Emergency Services  Incident_Collision - TTC  \\\n",
      "0                             0                         0   \n",
      "1                             0                         0   \n",
      "2                             0                         0   \n",
      "3                             0                         0   \n",
      "4                             0                         0   \n",
      "..                          ...                       ...   \n",
      "89                            0                         0   \n",
      "90                            0                         0   \n",
      "91                            0                         0   \n",
      "92                            0                         0   \n",
      "93                            0                         1   \n",
      "\n",
      "    Incident_Mechanical  Incident_Operations - Operator  \\\n",
      "0                     0                               0   \n",
      "1                     0                               0   \n",
      "2                     0                               0   \n",
      "3                     0                               0   \n",
      "4                     0                               0   \n",
      "..                  ...                             ...   \n",
      "89                    1                               0   \n",
      "90                    0                               1   \n",
      "91                    0                               1   \n",
      "92                    1                               0   \n",
      "93                    0                               0   \n",
      "\n",
      "    Incident_Investigation  \n",
      "0                        0  \n",
      "1                        0  \n",
      "2                        0  \n",
      "3                        0  \n",
      "4                        0  \n",
      "..                     ...  \n",
      "89                       0  \n",
      "90                       0  \n",
      "91                       0  \n",
      "92                       0  \n",
      "93                       0  \n",
      "\n",
      "[94 rows x 17 columns]\n"
     ]
    }
   ],
   "source": [
    "encoder = preprocessing.OneHotEncoder()\n",
    "\n",
    "for index, row in X.iterrows():\n",
    "\n",
    "    row_dict = row.to_dict()\n",
    "\n",
    "    encoder.learn_one({\"Incident\": row[\"Incident\"]})\n",
    "\n",
    "    encoded_row = encoder.transform_one({\"Incident\": row[\"Incident\"]})\n",
    "\n",
    "    for key, value in encoded_row.items():\n",
    "        if key not in X.columns:\n",
    "            X[key] = 0\n",
    "\n",
    "        X.at[index, key] = value\n",
    "\n",
    "print(X)"
   ]
  },
  {
   "cell_type": "markdown",
   "metadata": {
    "id": "vRne2IvxS5jY"
   },
   "source": [
    "**ARF with ADWIN**"
   ]
  },
  {
   "cell_type": "code",
   "execution_count": 84,
   "metadata": {
    "colab": {
     "base_uri": "https://localhost:8080/"
    },
    "id": "CaO2GmoSfiNl",
    "outputId": "d902caf7-67b4-46fe-9f1b-7cd642c45537"
   },
   "outputs": [
    {
     "name": "stdout",
     "output_type": "stream",
     "text": [
      "Date                              datetime64[ns]\n",
      "Route                                    float64\n",
      "Time                                      object\n",
      "Day                                       object\n",
      "Location                                  object\n",
      "Incident                                  object\n",
      "Min Delay                                float64\n",
      "Min Gap                                    int64\n",
      "Direction                                 object\n",
      "Incident_Diversion                         int64\n",
      "Incident_Security                          int64\n",
      "Incident_Cleaning - Unsanitary             int64\n",
      "Incident_Emergency Services                int64\n",
      "Incident_Collision - TTC                   int64\n",
      "Incident_Mechanical                        int64\n",
      "Incident_Operations - Operator             int64\n",
      "Incident_Investigation                     int64\n",
      "dtype: object\n"
     ]
    }
   ],
   "source": [
    "print(X.dtypes)"
   ]
  },
  {
   "cell_type": "code",
   "execution_count": 89,
   "metadata": {
    "id": "BGxrzXHDhlHu"
   },
   "outputs": [],
   "source": [
    "arf = forest.ARFClassifier()\n",
    "adwin = drift.ADWIN()\n",
    "metric = metrics.Accuracy()\n",
    "#whats next??"
   ]
  }
 ],
 "metadata": {
  "colab": {
   "provenance": []
  },
  "kernelspec": {
   "display_name": ".venv",
   "language": "python",
   "name": "python3"
  },
  "language_info": {
   "codemirror_mode": {
    "name": "ipython",
    "version": 3
   },
   "file_extension": ".py",
   "mimetype": "text/x-python",
   "name": "python",
   "nbconvert_exporter": "python",
   "pygments_lexer": "ipython3",
   "version": "3.12.3"
  }
 },
 "nbformat": 4,
 "nbformat_minor": 0
}
